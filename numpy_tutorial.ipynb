{
 "cells": [
  {
   "cell_type": "markdown",
   "metadata": {},
   "source": [
    "# NumPy Tutorial\n",
    "\n",
    "Esse notebook foi criado como uma forma de revisar/aprender alguns conceitos básicos da biblioteca NumPy do Python. Segui [esse](https://www.youtube.com/watch?v=QUT1VHiLmmI&ab_channel=freeCodeCamp.org) tutorial.\n",
    "\n",
    "***"
   ]
  },
  {
   "cell_type": "markdown",
   "metadata": {},
   "source": [
    "## Introdução\n",
    "\n",
    "- Por que o NumPy é mais rápido?\n",
    "  - Tipagem forte e estática. Os tipos dentro de uma array não podem ser mudados, diferente do que acontece com listas (que são mutáveis). Por conta disso, a biblioteca usa menos bytes para fazer as mesmas operações.\n",
    "  - Uso de memória contígua, isto é, os valores de uma array são guardados \"lado a lado\" dentro da memória do computador, o que torna as operações mais rápidas."
   ]
  },
  {
   "cell_type": "markdown",
   "metadata": {},
   "source": [
    "### Fundamentos"
   ]
  },
  {
   "cell_type": "code",
   "execution_count": 3,
   "metadata": {},
   "outputs": [],
   "source": [
    "import numpy as np"
   ]
  },
  {
   "cell_type": "code",
   "execution_count": 2,
   "metadata": {},
   "outputs": [
    {
     "data": {
      "text/plain": [
       "array([1, 2, 3])"
      ]
     },
     "execution_count": 2,
     "metadata": {},
     "output_type": "execute_result"
    }
   ],
   "source": [
    "a = np.array([1, 2, 3])\n",
    "a"
   ]
  },
  {
   "cell_type": "code",
   "execution_count": 5,
   "metadata": {},
   "outputs": [
    {
     "data": {
      "text/plain": [
       "array([[9., 8., 7.],\n",
       "       [6., 5., 4.]])"
      ]
     },
     "execution_count": 5,
     "metadata": {},
     "output_type": "execute_result"
    }
   ],
   "source": [
    "b = np.array([[9.0, 8.0, 7.0], [6.0, 5.0, 4.0]])\n",
    "b"
   ]
  },
  {
   "cell_type": "code",
   "execution_count": 9,
   "metadata": {},
   "outputs": [
    {
     "name": "stdout",
     "output_type": "stream",
     "text": [
      "1\n",
      "2\n",
      "(3,)\n",
      "(2, 3)\n",
      "int32\n",
      "float64\n",
      "12\n",
      "48\n"
     ]
    }
   ],
   "source": [
    "# Get Dimensions\n",
    "print(a.ndim)\n",
    "print(b.ndim)\n",
    "\n",
    "# Get Shapes\n",
    "print(a.shape)\n",
    "print(b.shape)\n",
    "\n",
    "# Data type\n",
    "print(a.dtype)\n",
    "print(b.dtype)\n",
    "\n",
    "# Memory consumption\n",
    "print(a.nbytes)\n",
    "print(b.nbytes)"
   ]
  },
  {
   "cell_type": "markdown",
   "metadata": {},
   "source": [
    "### Selecionando Trechos e Elementos (Array Slicing and Indexing)"
   ]
  },
  {
   "cell_type": "code",
   "execution_count": 10,
   "metadata": {},
   "outputs": [
    {
     "data": {
      "text/plain": [
       "array([[ 1,  2,  3,  4,  5,  6,  7],\n",
       "       [ 8,  9, 10, 11, 12, 13, 14]])"
      ]
     },
     "execution_count": 10,
     "metadata": {},
     "output_type": "execute_result"
    }
   ],
   "source": [
    "a = np.array([[1, 2, 3, 4, 5, 6, 7], [8, 9, 10, 11, 12, 13, 14]])\n",
    "a"
   ]
  },
  {
   "cell_type": "code",
   "execution_count": 13,
   "metadata": {},
   "outputs": [
    {
     "name": "stdout",
     "output_type": "stream",
     "text": [
      "14\n",
      "14\n"
     ]
    }
   ],
   "source": [
    "# Get specific element [row, column]\n",
    "print(a[1, 6])\n",
    "\n",
    "# Or with negative notation\n",
    "print(a[-1, -1])"
   ]
  },
  {
   "cell_type": "code",
   "execution_count": 15,
   "metadata": {},
   "outputs": [
    {
     "name": "stdout",
     "output_type": "stream",
     "text": [
      "[1 2 3 4 5 6 7]\n",
      "[ 3 10]\n"
     ]
    }
   ],
   "source": [
    "# Get a specific row\n",
    "print(a[0, :])\n",
    "\n",
    "# Get specific column\n",
    "print(a[:, 2])"
   ]
  },
  {
   "cell_type": "code",
   "execution_count": 21,
   "metadata": {},
   "outputs": [
    {
     "name": "stdout",
     "output_type": "stream",
     "text": [
      "[1 3 5]\n",
      "[[ 8  9 10 11 12 13 14]\n",
      " [ 1  2  3  4  5  6  7]]\n"
     ]
    }
   ],
   "source": [
    "# Using [row, start:end:step]\n",
    "print(a[0, 0:5:2])\n",
    "\n",
    "# Using [start:end:step, column]\n",
    "print(a[::-1, :])"
   ]
  },
  {
   "cell_type": "code",
   "execution_count": 22,
   "metadata": {},
   "outputs": [
    {
     "name": "stdout",
     "output_type": "stream",
     "text": [
      "[[ 1  2  3  4  5  6  7]\n",
      " [ 8  9 10 11 12 20 14]]\n",
      "[[ 1  2  3  4  5  8  7]\n",
      " [ 8  9 10 11 12 50 14]]\n"
     ]
    }
   ],
   "source": [
    "# Changing elements\n",
    "a[1, 5] = 20\n",
    "print(a)\n",
    "\n",
    "a[:, 5] = [8, 50]\n",
    "print(a)"
   ]
  },
  {
   "cell_type": "code",
   "execution_count": 31,
   "metadata": {},
   "outputs": [
    {
     "name": "stdout",
     "output_type": "stream",
     "text": [
      "[[[1 2]\n",
      "  [3 4]]\n",
      "\n",
      " [[5 6]\n",
      "  [7 8]]]\n",
      "4\n",
      "[[[ 9 10]\n",
      "  [11 12]]\n",
      "\n",
      " [[ 5  6]\n",
      "  [ 7  8]]]\n"
     ]
    }
   ],
   "source": [
    "# 3d array\n",
    "b = np.array([[[1, 2], [3, 4]], [[5, 6], [7, 8]]])\n",
    "print(b)\n",
    "\n",
    "# Get specific element (the tip is to work outside in)\n",
    "print(b[0, 1, 1])\n",
    "\n",
    "# Replace elements\n",
    "b[0] = [[9, 10], [11, 12]]\n",
    "print(b)"
   ]
  },
  {
   "cell_type": "markdown",
   "metadata": {},
   "source": [
    "### Diferentes Tipos de Arrays"
   ]
  },
  {
   "cell_type": "markdown",
   "metadata": {},
   "source": [
    "#### Matrizes de 1 número só"
   ]
  },
  {
   "cell_type": "code",
   "execution_count": 42,
   "metadata": {},
   "outputs": [
    {
     "name": "stdout",
     "output_type": "stream",
     "text": [
      "[0. 0. 0. 0. 0.]\n",
      "\n",
      "[[0. 0. 0.]\n",
      " [0. 0. 0.]\n",
      " [0. 0. 0.]]\n"
     ]
    }
   ],
   "source": [
    "# All-Zeros\n",
    "\n",
    "# 1d array\n",
    "print(np.zeros(5), end=\"\\n\\n\")\n",
    "\n",
    "# 2d array\n",
    "print(np.zeros((3, 3)))\n"
   ]
  },
  {
   "cell_type": "code",
   "execution_count": 43,
   "metadata": {},
   "outputs": [
    {
     "data": {
      "text/plain": [
       "array([[[1, 1],\n",
       "        [1, 1]],\n",
       "\n",
       "       [[1, 1],\n",
       "        [1, 1]],\n",
       "\n",
       "       [[1, 1],\n",
       "        [1, 1]],\n",
       "\n",
       "       [[1, 1],\n",
       "        [1, 1]]])"
      ]
     },
     "execution_count": 43,
     "metadata": {},
     "output_type": "execute_result"
    }
   ],
   "source": [
    "# All 1s matrix\n",
    "np.ones((4, 2, 2), dtype='int32')"
   ]
  },
  {
   "cell_type": "code",
   "execution_count": 44,
   "metadata": {},
   "outputs": [
    {
     "data": {
      "text/plain": [
       "array([[5, 5],\n",
       "       [5, 5]])"
      ]
     },
     "execution_count": 44,
     "metadata": {},
     "output_type": "execute_result"
    }
   ],
   "source": [
    "# Any other number\n",
    "np.full((2, 2), 5)"
   ]
  },
  {
   "cell_type": "markdown",
   "metadata": {},
   "source": [
    "#### Reproduzindo o formato de outras matrizes"
   ]
  },
  {
   "cell_type": "code",
   "execution_count": 45,
   "metadata": {},
   "outputs": [
    {
     "data": {
      "text/plain": [
       "array([[2, 2, 2, 2, 2, 2, 2],\n",
       "       [2, 2, 2, 2, 2, 2, 2]])"
      ]
     },
     "execution_count": 45,
     "metadata": {},
     "output_type": "execute_result"
    }
   ],
   "source": [
    "# Reproducing the shape of other matrix\n",
    "np.full_like(a, 2) # matrix a was defined prior in this notebook"
   ]
  },
  {
   "cell_type": "markdown",
   "metadata": {},
   "source": [
    "#### Números Aleatórios"
   ]
  },
  {
   "cell_type": "code",
   "execution_count": 50,
   "metadata": {},
   "outputs": [
    {
     "name": "stdout",
     "output_type": "stream",
     "text": [
      "[[0.11576791 0.82880689]\n",
      " [0.72958807 0.08964552]\n",
      " [0.86293107 0.14365324]\n",
      " [0.2011232  0.21732445]]\n",
      "[[-71  74 -21]\n",
      " [ 59  68  88]\n",
      " [ 23  62  17]]\n"
     ]
    }
   ],
   "source": [
    "# Random decimal numbers\n",
    "print(np.random.rand(4, 2))\n",
    "\n",
    "# Random integers\n",
    "print(np.random.randint(-100, 100, size=(3, 3)))"
   ]
  },
  {
   "cell_type": "markdown",
   "metadata": {},
   "source": [
    "#### Matriz Identidade"
   ]
  },
  {
   "cell_type": "code",
   "execution_count": 51,
   "metadata": {},
   "outputs": [
    {
     "data": {
      "text/plain": [
       "array([[1., 0., 0.],\n",
       "       [0., 1., 0.],\n",
       "       [0., 0., 1.]])"
      ]
     },
     "execution_count": 51,
     "metadata": {},
     "output_type": "execute_result"
    }
   ],
   "source": [
    "np.identity(3)"
   ]
  },
  {
   "cell_type": "markdown",
   "metadata": {},
   "source": [
    "#### Repetição"
   ]
  },
  {
   "cell_type": "code",
   "execution_count": 52,
   "metadata": {},
   "outputs": [
    {
     "name": "stdout",
     "output_type": "stream",
     "text": [
      "[[1 2 3]\n",
      " [1 2 3]\n",
      " [1 2 3]]\n"
     ]
    }
   ],
   "source": [
    "# Repeat an array\n",
    "\n",
    "arr = np.array([[1, 2, 3]])\n",
    "print(np.repeat(arr, 3, axis=0))"
   ]
  },
  {
   "cell_type": "markdown",
   "metadata": {},
   "source": [
    "#### Exercício\n",
    "\n",
    "Replique a matriz da foto usando os métodos ensinados até o momento.\n",
    "\n",
    "![](assets/2022-03-25-11-15-51.png)\n"
   ]
  },
  {
   "cell_type": "code",
   "execution_count": 58,
   "metadata": {},
   "outputs": [
    {
     "data": {
      "text/plain": [
       "array([[1, 1, 1, 1, 1],\n",
       "       [1, 0, 0, 0, 1],\n",
       "       [1, 0, 9, 0, 1],\n",
       "       [1, 0, 0, 0, 1],\n",
       "       [1, 1, 1, 1, 1]])"
      ]
     },
     "execution_count": 58,
     "metadata": {},
     "output_type": "execute_result"
    }
   ],
   "source": [
    "# Matriz de 1s\n",
    "output = np.ones((5, 5), dtype='int32')\n",
    "\n",
    "# Preenchendo 0s\n",
    "output[1:4, 1:4] = np.zeros((3, 3), dtype='int32')\n",
    "\n",
    "# Posicionando o 9\n",
    "output[2, 2] = 9\n",
    "\n",
    "output"
   ]
  },
  {
   "cell_type": "markdown",
   "metadata": {},
   "source": [
    "### Cuidados ao copiar matrizes\n",
    "\n",
    "Ao copiar uma matriz, você precisa dizer ao computador explicitamente o que está fazendo, caso contrário, o resultado pode diferir do esperado."
   ]
  },
  {
   "cell_type": "code",
   "execution_count": 59,
   "metadata": {},
   "outputs": [
    {
     "name": "stdout",
     "output_type": "stream",
     "text": [
      "[1 2 3]\n",
      "[100   2   3]\n"
     ]
    }
   ],
   "source": [
    "a = np.array([1, 2, 3])\n",
    "b = a.copy()\n",
    "\n",
    "b[0] = 100\n",
    "\n",
    "print(a, b, sep='\\n')"
   ]
  },
  {
   "cell_type": "markdown",
   "metadata": {},
   "source": [
    "***"
   ]
  },
  {
   "cell_type": "markdown",
   "metadata": {},
   "source": [
    "## Operações Matemáticas Básicas"
   ]
  },
  {
   "cell_type": "code",
   "execution_count": 11,
   "metadata": {},
   "outputs": [
    {
     "name": "stdout",
     "output_type": "stream",
     "text": [
      "arr:  [ 63  11  99   9 -81  60  68   6 -61 -66]\n",
      "brr:  [-48 -35  -5 -53  76  28 -60  66  65 -90]\n",
      "\n",
      "Operações com uma array:\n",
      "Array + 5:  [ 68  16 104  14 -76  65  73  11 -56 -61]\n",
      "Array - 5:  [ 58   6  94   4 -86  55  63   1 -66 -71]\n",
      "Array * 2:  [ 126   22  198   18 -162  120  136   12 -122 -132]\n",
      "Array / 2:  [ 31.5   5.5  49.5   4.5 -40.5  30.   34.    3.  -30.5 -33. ]\n",
      "\n",
      "Operações com duas arrays:\n",
      "arr + brr:  [  15  -24   94  -44   -5   88    8   72    4 -156]\n",
      "arr - brr:  [ 111   46  104   62 -157   32  128  -60 -126   24]\n",
      "arr * brr:  [-3024  -385  -495  -477 -6156  1680 -4080   396 -3965  5940]\n",
      "arr / brr:  [ -1.3125      -0.31428571 -19.8         -0.16981132  -1.06578947\n",
      "   2.14285714  -1.13333333   0.09090909  -0.93846154   0.73333333]\n",
      "\n",
      "Aplicando funções em arrays:\n",
      "Seno:  [ 0.1673557  -0.99999021 -0.99920683  0.41211849  0.62988799 -0.30481062\n",
      " -0.89792768 -0.2794155   0.96611777  0.02655115]\n"
     ]
    }
   ],
   "source": [
    "arr = np.random.randint(-100, 110, size=10)\n",
    "brr = np.random.randint(-100, 110, size=10)\n",
    "\n",
    "print(\"arr: \", arr)\n",
    "print(\"brr: \", brr)\n",
    "\n",
    "print(\"\\nOperações com uma array:\")\n",
    "# Adição\n",
    "print(\"Array + 5: \", (arr + 5))\n",
    "\n",
    "# Subtração\n",
    "print(\"Array - 5: \", (arr - 5))\n",
    "\n",
    "# Multiplicação\n",
    "print(\"Array * 2: \", (arr * 2))\n",
    "\n",
    "# Divisão\n",
    "print(\"Array / 2: \", (arr / 2))\n",
    "\n",
    "# Todas as operações acima também funcionam entre arrays do mesmo tamanho\n",
    "\n",
    "print(\"\\nOperações com duas arrays:\")\n",
    "\n",
    "print(\"arr + brr: \", (arr + brr))\n",
    "print(\"arr - brr: \", (arr - brr))\n",
    "print(\"arr * brr: \", (arr * brr))\n",
    "print(\"arr / brr: \", (arr / brr))\n",
    "\n",
    "print(\"\\nAplicando funções em arrays:\")\n",
    "\n",
    "print(\"Seno (input em radianos): \", np.sin(arr))"
   ]
  },
  {
   "cell_type": "markdown",
   "metadata": {},
   "source": [
    "***"
   ]
  },
  {
   "cell_type": "markdown",
   "metadata": {},
   "source": [
    "## Álgebra Linear"
   ]
  },
  {
   "cell_type": "markdown",
   "metadata": {},
   "source": [
    "### Multiplicação de Matrizes\n",
    "\n",
    "Dadas duas matrizes $A_{m \\times n}$ e $B_{n \\times p}$, podemos as multiplicá-las se o número de colunas da primeira $A_{m \\times N}$ for igual ao número de linhas da segunda $B_{N \\times p}$. Se essa condição for atendida, teremos como resultado uma matriz com o número de linhas de $A$ e o número de colunas de $B$:\n",
    "\n",
    "$$\n",
    "A_{m \\times n} \\cdot B_{n \\times p} = C_{m \\times p}\n",
    "$$\n"
   ]
  },
  {
   "cell_type": "code",
   "execution_count": 21,
   "metadata": {},
   "outputs": [
    {
     "name": "stdout",
     "output_type": "stream",
     "text": [
      "[[4 1 5 4]\n",
      " [1 6 0 2]]\n",
      "[[ 9  6]\n",
      " [ 5 10]\n",
      " [ 6  9]\n",
      " [ 0  8]]\n",
      "[[ 71 111]\n",
      " [ 39  82]]\n",
      "(2, 2)\n"
     ]
    }
   ],
   "source": [
    "a = np.random.randint(0, 11, size=(2, 4))\n",
    "b = np.random.randint(0, 11, size=(4, 2))\n",
    "\n",
    "print(a, b, sep=\"\\n\")\n",
    "\n",
    "c = np.matmul(a, b)\n",
    "print(c)\n",
    "print(c.shape)"
   ]
  },
  {
   "cell_type": "markdown",
   "metadata": {},
   "source": [
    "### Determinantes\n",
    "\n",
    "[*\"O determinante de uma matriz é uma “operação” que associa todas as matrizes quadradas a uma constante, ou seja, transformando-a em um escalar\"*](https://www.infoescola.com/matematica/determinante-de-matrizes/). Conseguimos o determinante de uma matriz ao realizar o seguinte procedimento:\n",
    "\n",
    "![](assets/2022-03-25-13-49-47.png)\n",
    "\n",
    "Em código, fazemos o seguinte:"
   ]
  },
  {
   "cell_type": "code",
   "execution_count": 23,
   "metadata": {},
   "outputs": [
    {
     "name": "stdout",
     "output_type": "stream",
     "text": [
      "[[302  56]\n",
      " [ 24 154]]\n",
      "45163.999999999985\n"
     ]
    }
   ],
   "source": [
    "arr = np.random.randint(500, size=(2, 2))\n",
    "\n",
    "print(arr)\n",
    "print(np.linalg.det(arr))"
   ]
  },
  {
   "cell_type": "markdown",
   "metadata": {},
   "source": [
    "***\n",
    "\n",
    "## Estatística"
   ]
  },
  {
   "cell_type": "code",
   "execution_count": 24,
   "metadata": {},
   "outputs": [
    {
     "data": {
      "text/plain": [
       "array([[1, 2, 3],\n",
       "       [4, 5, 6]])"
      ]
     },
     "execution_count": 24,
     "metadata": {},
     "output_type": "execute_result"
    }
   ],
   "source": [
    "arr = np.array([[1, 2, 3], [4, 5, 6]])\n",
    "arr"
   ]
  },
  {
   "cell_type": "markdown",
   "metadata": {},
   "source": [
    "### Máximos, mínimos e somas"
   ]
  },
  {
   "cell_type": "code",
   "execution_count": 26,
   "metadata": {},
   "outputs": [
    {
     "name": "stdout",
     "output_type": "stream",
     "text": [
      "1\n",
      "6\n",
      "[1 2 3]\n",
      "[4 5 6]\n",
      "[1 4]\n",
      "[3 6]\n",
      "21\n"
     ]
    }
   ],
   "source": [
    "# Geral\n",
    "print(np.min(arr))\n",
    "print(np.max(arr))\n",
    "\n",
    "# Por linha\n",
    "print(np.min(arr, axis=0))\n",
    "print(np.max(arr, axis=0))\n",
    "\n",
    "# Por colunas\n",
    "print(np.min(arr, axis=1))\n",
    "print(np.max(arr, axis=1))\n",
    "\n",
    "# Soma de todos os elementos\n",
    "print(np.sum(arr))"
   ]
  },
  {
   "cell_type": "markdown",
   "metadata": {},
   "source": [
    "***\n",
    "\n",
    "## Manipulando Formatos"
   ]
  },
  {
   "cell_type": "code",
   "execution_count": 27,
   "metadata": {},
   "outputs": [
    {
     "name": "stdout",
     "output_type": "stream",
     "text": [
      "[[8 2 6 8]\n",
      " [2 4 0 9]]\n",
      "[[8 2]\n",
      " [6 8]\n",
      " [2 4]\n",
      " [0 9]]\n"
     ]
    }
   ],
   "source": [
    "# Reshape\n",
    "# All values must be considered when rshaping an array\n",
    "\n",
    "before = np.random.randint(10, size=(2, 4))\n",
    "print(before)\n",
    "\n",
    "after = before.reshape((4, 2))\n",
    "print(after)"
   ]
  },
  {
   "cell_type": "code",
   "execution_count": 34,
   "metadata": {},
   "outputs": [
    {
     "name": "stdout",
     "output_type": "stream",
     "text": [
      "[2 4 8 1 8]\n",
      "[3 2 0 0 4]\n",
      "[[2 4 8 1 8]\n",
      " [3 2 0 0 4]]\n"
     ]
    }
   ],
   "source": [
    "# Vertically stacking vectors\n",
    "v1 = np.random.randint(10, size=(5))\n",
    "v2 = np.random.randint(10, size=(5))\n",
    "\n",
    "print(v1)\n",
    "print(v2)\n",
    "print(np.vstack([v1, v2]))"
   ]
  },
  {
   "cell_type": "code",
   "execution_count": 33,
   "metadata": {},
   "outputs": [
    {
     "name": "stdout",
     "output_type": "stream",
     "text": [
      "[[5 3 7 2 5]\n",
      " [7 4 7 8 8]]\n",
      "[[5 8 2 6 7]\n",
      " [5 9 7 9 1]]\n",
      "[[5 3 7 2 5 5 8 2 6 7]\n",
      " [7 4 7 8 8 5 9 7 9 1]]\n"
     ]
    }
   ],
   "source": [
    "# Horizontally stacking vectors\n",
    "v1 = np.random.randint(10, size=(2, 5))\n",
    "v2 = np.random.randint(10, size=(2, 5))\n",
    "\n",
    "print(v1)\n",
    "print(v2)\n",
    "print(np.hstack([v1, v2]))"
   ]
  },
  {
   "cell_type": "markdown",
   "metadata": {},
   "source": [
    "***\n",
    "\n",
    "## Exercícios\n",
    "\n",
    "Dada a matriz e as partes de destaque:\n",
    "\n",
    "![](assets/2022-03-25-14-40-13.png)\n",
    "\n",
    "1. Como você selecionaria a parte destacada de azul?\n",
    "2. Como você selecionaria a parte destacada de verde?\n",
    "3. Como você selecionaria a parte destacada de vermelho?"
   ]
  },
  {
   "cell_type": "code",
   "execution_count": 50,
   "metadata": {},
   "outputs": [
    {
     "name": "stdout",
     "output_type": "stream",
     "text": [
      "[[ 1  2  3  4  5]\n",
      " [ 6  7  8  9 10]\n",
      " [11 12 13 14 15]\n",
      " [16 17 18 19 20]\n",
      " [21 22 23 24 25]\n",
      " [26 27 28 29 30]]\n",
      "[[11 12]\n",
      " [16 17]]\n",
      "[ 2  8 14 20]\n",
      "[[ 4  5]\n",
      " [24 25]\n",
      " [29 30]]\n"
     ]
    }
   ],
   "source": [
    "v = np.arange(1, 31).reshape(6, 5)\n",
    "print(v)\n",
    "\n",
    "# Pergunta 1\n",
    "print(v[2:4, :2])\n",
    "\n",
    "# Pergunta 2\n",
    "print(v[[0, 1, 2, 3], [1, 2, 3, 4]])\n",
    "\n",
    "# Pergunta 3\n",
    "print(v[[0, 4, 5], 3:])"
   ]
  },
  {
   "cell_type": "code",
   "execution_count": null,
   "metadata": {},
   "outputs": [],
   "source": []
  },
  {
   "cell_type": "code",
   "execution_count": null,
   "metadata": {},
   "outputs": [],
   "source": []
  }
 ],
 "metadata": {
  "interpreter": {
   "hash": "db8601ed9c6fae5528db3dc7d38939486afb7cc1a5a830919a58ef4bfd09cab6"
  },
  "kernelspec": {
   "display_name": "Python 3",
   "language": "python",
   "name": "python3"
  },
  "language_info": {
   "codemirror_mode": {
    "name": "ipython",
    "version": 3
   },
   "file_extension": ".py",
   "mimetype": "text/x-python",
   "name": "python",
   "nbconvert_exporter": "python",
   "pygments_lexer": "ipython3",
   "version": "3.8.6"
  }
 },
 "nbformat": 4,
 "nbformat_minor": 4
}
