{
 "cells": [
  {
   "cell_type": "markdown",
   "metadata": {},
   "source": [
    "# Consumo de Combustivel vs. Eficiência de Veículos Populares\n",
    "\n",
    "Em uma conversa a respeito de modelos de carros, meu pai afirmou que a frequência de abastecimento de carros que são movidos à alcool os faria mais caros, a despeito do preço historicamente menor do àlcool em relação à gasolina. \n",
    "\n",
    "Esse estudo nasce da ideia de validar a afirmação de meu pai. Posto isso, eu uso um [dataset de carros do Kaggle](link) e a [série de preços de combustivel semestral disponibilizada pelo governo](https://www.gov.br/anp/pt-br/centrais-de-conteudo/dados-abertos/serie-historica-de-precos-de-combustiveis)"
   ]
  },
  {
   "cell_type": "code",
   "execution_count": null,
   "metadata": {},
   "outputs": [],
   "source": []
  }
 ],
 "metadata": {
  "kernelspec": {
   "display_name": "Python 3",
   "language": "python",
   "name": "python3"
  },
  "language_info": {
   "codemirror_mode": {
    "name": "ipython",
    "version": 3
   },
   "file_extension": ".py",
   "mimetype": "text/x-python",
   "name": "python",
   "nbconvert_exporter": "python",
   "pygments_lexer": "ipython3",
   "version": "3.8.6"
  }
 },
 "nbformat": 4,
 "nbformat_minor": 4
}
